{
 "cells": [
  {
   "cell_type": "code",
   "execution_count": 31,
   "metadata": {},
   "outputs": [],
   "source": [
    "scenes = \"\"\"[ label = \"Rocket gets caught between Lil Z and police\"];\n",
    "[ label = \"The Sixties\"];\n",
    "delete;\n",
    "[ label = \"The story of the tender trio\"];\n",
    "delete;\n",
    "[ label = \"Rocket is swimming at the lake\"];\n",
    "delete;\n",
    "[ label = \"Lil Dice and the tender trio rob the love motel\"];\n",
    "delete;\n",
    "[ label = \"The tender trio escape the move motel without Lil Dice\"];\n",
    "delete;\n",
    "[ label = \"Shaggy meets Bernice and Clipper becomes Christian\"];\n",
    "delete;\n",
    "[ label = \"Man kills his wife for adultry and Goose gets raided by the cops\"];\n",
    "delete;\n",
    "[ label = \"Shaggy dies trying to hijack a car\"];\n",
    "delete;\n",
    "[ label = \"The Seventies\"];\n",
    "delete;\n",
    "[ label = \"Rocket tries to buy weed for Martha\"];\n",
    "[ label = \"The story of the apaartment\"];\n",
    "delete;\n",
    "delete;\n",
    "[ label = \"Lil Z shoots the apartment dealer\"];\n",
    "[ label = \"The story of Lil Z\"];\n",
    "delete;\n",
    "[ label = \"Lil Dice kills Rocket's brother\"];\n",
    "delete;\n",
    "[ label = \"Lil Z gains amulet and becomes big crime boss\"];\n",
    "delete;\n",
    "delete;\n",
    "[ label = \"Lil Z starts selling drugs\"];\n",
    "delete;\n",
    "[ label = \"Benny meets Tiago and becomes a playboy\"];\n",
    "delete;\n",
    "[ label = \"Lil Z and Carrot beef in the club over the Runt's antics\"];\n",
    "delete;\n",
    "[ label = \"Lil z gives the runts a lesson\"];\n",
    "delete;\n",
    "[ label = \"A sucker's life\"];\n",
    "delete;\n",
    "[ label = \"Flirting with crime\"];\n",
    "delete;\n",
    "[ label = \"Rocket fails at robbing the waitress and the man from Sao Paolo\"];\n",
    "delete;\n",
    "[ label = \"\"You need a girlfriend Lil Z\"\"];\n",
    "delete;\n",
    "[ label = \"Benny's fairwell\"];\n",
    "delete;\n",
    "[ label = \"Carrot kills Benny\"];\n",
    "delete;\n",
    "[ label = \"Knockout Ned and Lil Z's inciting incident\"];\n",
    "delete;\n",
    "[ label = \"The story of Knockout Ned\"];\n",
    "delete;\n",
    "[ label = \"War breaks out\"];\n",
    "delete;\n",
    "[ label = \"Rocket takes photos of Lil Z's gang\"];\n",
    "delete;\n",
    "[ label = \"Rocket starts living with professional prohotographer\"];\n",
    "delete;\n",
    "[ label = \"Lil Z gives the Runts guns\"];\n",
    "delete;\n",
    "[ label = \"The Beginning of the End\"];\n",
    "delete;\n",
    "delete;\n",
    "[ label = \"The final war begins and Rocket takes photos\"];\n",
    "[ label = \"The story of otto\"];\n",
    "delete;\n",
    "delete;\n",
    "[ label = \"Lil Z is arrested, Rocket takes photos\"];\n",
    "delete;\n",
    "[ label = \"Lil Z is killed by the Runts, Rocket takes photos\"];\n",
    "delete;\n",
    "[ label = \"Rocket gets an internship for his photogrpahy\"];\n",
    "delete;\n",
    "delete;\"\"\""
   ]
  },
  {
   "cell_type": "code",
   "execution_count": 80,
   "metadata": {},
   "outputs": [],
   "source": [
    "s = scenes.split('\\n')"
   ]
  },
  {
   "cell_type": "code",
   "execution_count": 8,
   "metadata": {},
   "outputs": [
    {
     "data": {
      "text/plain": [
       "'6'"
      ]
     },
     "execution_count": 8,
     "metadata": {},
     "output_type": "execute_result"
    }
   ],
   "source": [
    "s[1]"
   ]
  },
  {
   "cell_type": "code",
   "execution_count": 9,
   "metadata": {},
   "outputs": [
    {
     "data": {
      "text/plain": [
       "['l61',\n",
       " 'l62',\n",
       " 'l63',\n",
       " 'l64',\n",
       " 'l65',\n",
       " 'l66',\n",
       " 'l67',\n",
       " 'l68',\n",
       " 'l69',\n",
       " 'l610',\n",
       " 'l611',\n",
       " 'l612',\n",
       " 'l613',\n",
       " 'l614',\n",
       " 'l615',\n",
       " 'l616',\n",
       " 'l617',\n",
       " 'l618',\n",
       " 'l619',\n",
       " 'l620',\n",
       " 'l621',\n",
       " 'l622',\n",
       " 'l623',\n",
       " 'l624',\n",
       " 'l625',\n",
       " 'l626',\n",
       " 'l627',\n",
       " 'l628',\n",
       " 'l629',\n",
       " 'l630',\n",
       " 'l631',\n",
       " 'l632']"
      ]
     },
     "execution_count": 9,
     "metadata": {},
     "output_type": "execute_result"
    }
   ],
   "source": [
    "s.split('\\n')"
   ]
  },
  {
   "cell_type": "code",
   "execution_count": 47,
   "metadata": {},
   "outputs": [],
   "source": [
    "def gen():\n",
    "    layer = 1\n",
    "    while True:\n",
    "        for i in range(1, 2**layer + 1):\n",
    "            yield 'l' + str(layer+1) + str(i)\n",
    "        layer += 1\n",
    "    "
   ]
  },
  {
   "cell_type": "code",
   "execution_count": 84,
   "metadata": {},
   "outputs": [
    {
     "name": "stdout",
     "output_type": "stream",
     "text": [
      "l1 [ label = \"Rocket gets caught between Lil Z and police\"];\n",
      "l21 [ label = \"The Sixties\"];\n",
      "l22 delete;\n",
      "l31 [ label = \"The story of the tender trio\"];\n",
      "l32 delete;\n",
      "l33 [ label = \"Rocket is swimming at the lake\"];\n",
      "l34 delete;\n",
      "l41 [ label = \"Lil Dice and the tender trio rob the love motel\"];\n",
      "l42 delete;\n",
      "l43 [ label = \"The tender trio escape the move motel without Lil Dice\"];\n",
      "l44 delete;\n",
      "l45 [ label = \"Shaggy meets Bernice and Clipper becomes Christian\"];\n",
      "l46 delete;\n",
      "l47 [ label = \"Man kills his wife for adultry and Goose gets raided by the cops\"];\n",
      "l48 delete;\n",
      "l51 [ label = \"Shaggy dies trying to hijack a car\"];\n",
      "l52 delete;\n",
      "l53 [ label = \"The Seventies\"];\n",
      "l54 delete;\n",
      "l55 [ label = \"Rocket tries to buy weed for Martha\"];\n",
      "l56 [ label = \"The story of the apaartment\"];\n",
      "l57 delete;\n",
      "l58 delete;\n",
      "l59 [ label = \"Lil Z shoots the apartment dealer\"];\n",
      "l510 [ label = \"The story of Lil Z\"];\n",
      "l511 delete;\n",
      "l512 [ label = \"Lil Dice kills Rocket's brother\"];\n",
      "l513 delete;\n",
      "l514 [ label = \"Lil Z gains amulet and becomes big crime boss\"];\n",
      "l515 delete;\n",
      "l516 delete;\n",
      "l61 [ label = \"Lil Z starts selling drugs\"];\n",
      "l62 delete;\n",
      "l63 [ label = \"Benny meets Tiago and becomes a playboy\"];\n",
      "l64 delete;\n",
      "l65 [ label = \"Lil Z and Carrot beef in the club over the Runt's antics\"];\n",
      "l66 delete;\n",
      "l67 [ label = \"Lil z gives the runts a lesson\"];\n",
      "l68 delete;\n",
      "l69 [ label = \"A sucker's life\"];\n",
      "l610 delete;\n",
      "l611 [ label = \"Flirting with crime\"];\n",
      "l612 delete;\n",
      "l613 [ label = \"Rocket fails at robbing the waitress and the man from Sao Paolo\"];\n",
      "l614 delete;\n",
      "l615 [ label = \"\"You need a girlfriend Lil Z\"\"];\n",
      "l616 delete;\n",
      "l617 [ label = \"Benny's fairwell\"];\n",
      "l618 delete;\n",
      "l619 [ label = \"Carrot kills Benny\"];\n",
      "l620 delete;\n",
      "l621 [ label = \"Knockout Ned and Lil Z's inciting incident\"];\n",
      "l622 delete;\n",
      "l623 [ label = \"The story of Knockout Ned\"];\n",
      "l624 delete;\n",
      "l625 [ label = \"War breaks out\"];\n",
      "l626 delete;\n",
      "l627 [ label = \"Rocket takes photos of Lil Z's gang\"];\n",
      "l628 delete;\n",
      "l629 [ label = \"Rocket starts living with professional prohotographer\"];\n",
      "l630 delete;\n",
      "l631 [ label = \"Lil Z gives the Runts guns\"];\n",
      "l632 delete;\n",
      "l71 [ label = \"The Beginning of the End\"];\n",
      "l72 delete;\n",
      "l73 delete;\n",
      "l74 [ label = \"The final war begins and Rocket takes photos\"];\n",
      "l75 [ label = \"The story of otto\"];\n",
      "l76 delete;\n",
      "l77 delete;\n",
      "l78 [ label = \"Lil Z is arrested, Rocket takes photos\"];\n",
      "l79 delete;\n",
      "l710 [ label = \"Lil Z is killed by the Runts, Rocket takes photos\"];\n",
      "l711 delete;\n",
      "l712 [ label = \"Rocket gets an internship for his photogrpahy\"];\n",
      "l713 delete;\n",
      "l714 delete;\n"
     ]
    }
   ],
   "source": [
    "g = gen()\n",
    "print('l1 ' + s[0])\n",
    "for scene in s[1:]:\n",
    "    print(next(g) + ' ' + scene)"
   ]
  },
  {
   "cell_type": "code",
   "execution_count": 77,
   "metadata": {},
   "outputs": [
    {
     "data": {
      "text/plain": [
       "'l61'"
      ]
     },
     "execution_count": 77,
     "metadata": {},
     "output_type": "execute_result"
    }
   ],
   "source": [
    "next(g)"
   ]
  },
  {
   "cell_type": "code",
   "execution_count": 90,
   "metadata": {},
   "outputs": [
    {
     "name": "stdout",
     "output_type": "stream",
     "text": [
      "l21 -> { l31 l32 };\n",
      "l22 -> { l33 l34 };\n",
      "l31 -> { l41 l42 };\n",
      "l32 -> { l43 l44 };\n",
      "l33 -> { l45 l46 };\n",
      "l34 -> { l47 l48 };\n",
      "l41 -> { l51 l52 };\n",
      "l42 -> { l53 l54 };\n",
      "l43 -> { l55 l56 };\n",
      "l44 -> { l57 l58 };\n",
      "l45 -> { l59 l510 };\n",
      "l46 -> { l511 l512 };\n",
      "l47 -> { l513 l514 };\n",
      "l48 -> { l515 l516 };\n",
      "l51 -> { l61 l62 };\n",
      "l52 -> { l63 l64 };\n",
      "l53 -> { l65 l66 };\n",
      "l54 -> { l67 l68 };\n",
      "l55 -> { l69 l610 };\n",
      "l56 -> { l611 l612 };\n",
      "l57 -> { l613 l614 };\n",
      "l58 -> { l615 l616 };\n",
      "l59 -> { l617 l618 };\n",
      "l510 -> { l619 l620 };\n",
      "l511 -> { l621 l622 };\n",
      "l512 -> { l623 l624 };\n",
      "l513 -> { l625 l626 };\n",
      "l514 -> { l627 l628 };\n",
      "l515 -> { l629 l630 };\n",
      "l516 -> { l631 l632 };\n",
      "l61 -> { l71 l72 };\n",
      "l62 -> { l73 l74 };\n",
      "l63 -> { l75 l76 };\n",
      "l64 -> { l77 l78 };\n",
      "l65 -> { l79 l710 };\n",
      "l66 -> { l711 l712 };\n",
      "l67 -> { l713 l714 };\n",
      "l68 -> { l715 l716 };\n"
     ]
    }
   ],
   "source": [
    "lg = gen()\n",
    "rg = gen()\n",
    "next(rg)\n",
    "next(rg)\n",
    "for _ in range(len(s)//2):\n",
    "    print(next(lg) + \" -> { \" + next(rg) + ' ' + next(rg) + ' };')"
   ]
  },
  {
   "cell_type": "code",
   "execution_count": null,
   "metadata": {},
   "outputs": [],
   "source": []
  }
 ],
 "metadata": {
  "kernelspec": {
   "display_name": "Python 3",
   "language": "python",
   "name": "python3"
  },
  "language_info": {
   "codemirror_mode": {
    "name": "ipython",
    "version": 3
   },
   "file_extension": ".py",
   "mimetype": "text/x-python",
   "name": "python",
   "nbconvert_exporter": "python",
   "pygments_lexer": "ipython3",
   "version": "3.8.2"
  }
 },
 "nbformat": 4,
 "nbformat_minor": 4
}
